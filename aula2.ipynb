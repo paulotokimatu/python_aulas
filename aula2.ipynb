{
 "cells": [
  {
   "cell_type": "markdown",
   "metadata": {},
   "source": [
    "# Aula 2\n",
    "Na nossa primeira sessão você aprendeu algumas ideias básicas, como expressões matemáticas, condicionais, loops e a função print. Também conversamos sobre variáveis e como elas podem ser de diferentes tipos. Por exemplo:"
   ]
  },
  {
   "cell_type": "code",
   "execution_count": 6,
   "metadata": {
    "collapsed": false
   },
   "outputs": [
    {
     "name": "stdout",
     "output_type": "stream",
     "text": [
      "20\n"
     ]
    }
   ],
   "source": [
    "var1 = 10 # A variável var1 é um número inteiro (int)\n",
    "var2 = \"palavra\" # var2 é uma string (str)\n",
    "var3 = \"10\" # Como está entre aspas, var3 é composta da string \"10\"\n",
    "\n",
    "print var1 + var1"
   ]
  },
  {
   "cell_type": "code",
   "execution_count": 3,
   "metadata": {
    "collapsed": false
   },
   "outputs": [
    {
     "ename": "TypeError",
     "evalue": "unsupported operand type(s) for +: 'int' and 'str'",
     "output_type": "error",
     "traceback": [
      "\u001b[1;31m\u001b[0m",
      "\u001b[1;31mTypeError\u001b[0mTraceback (most recent call last)",
      "\u001b[1;32m<ipython-input-3-6bc9bf2bb3de>\u001b[0m in \u001b[0;36m<module>\u001b[1;34m()\u001b[0m\n\u001b[1;32m----> 1\u001b[1;33m \u001b[1;32mprint\u001b[0m \u001b[0mvar1\u001b[0m \u001b[1;33m+\u001b[0m \u001b[0mvar3\u001b[0m\u001b[1;33m\u001b[0m\u001b[0m\n\u001b[0m",
      "\u001b[1;31mTypeError\u001b[0m: unsupported operand type(s) for +: 'int' and 'str'"
     ]
    }
   ],
   "source": [
    "print var1 + var3"
   ]
  },
  {
   "cell_type": "code",
   "execution_count": 4,
   "metadata": {
    "collapsed": false
   },
   "outputs": [
    {
     "name": "stdout",
     "output_type": "stream",
     "text": [
      "palavra10\n"
     ]
    }
   ],
   "source": [
    "print var2 + var3"
   ]
  },
  {
   "cell_type": "markdown",
   "metadata": {},
   "source": [
    "Percebeu o impacto de entender a natureza por trás de cada variável? Mas o fato é que o Python tem vários outros tipos de variáveis, entre eles:\n",
    "- Integer\n",
    "- Float\n",
    "- String\n",
    "- List\n",
    "- Tuples\n",
    "- Dictionary\n",
    "\n",
    "Os três últimos sao um pouco mais difíceis de entender, então antes, vamos consolidar o nosso entendimento dos primeiros. Caso você rode a seguinte expressão, o que você espera ter como output?"
   ]
  },
  {
   "cell_type": "code",
   "execution_count": 7,
   "metadata": {
    "collapsed": false
   },
   "outputs": [
    {
     "name": "stdout",
     "output_type": "stream",
     "text": [
      "0\n"
     ]
    }
   ],
   "source": [
    "result = 3/10\n",
    "print result"
   ]
  },
  {
   "cell_type": "markdown",
   "metadata": {},
   "source": [
    "Bem, ao contrário do esperávamos, o resultado não foi 0.3 e sim 0. Isto ocorre porque o python entende ambos os números 3 e 10 como números inteiros e dessa forma, aloca a variável result como um número inteiro também. Sabemos por outro lado que o resultado dessa equação é um número racional e não inteiro, ou seja o tipo int é inadequado. Devemos então explicitar que os número são racionais."
   ]
  },
  {
   "cell_type": "code",
   "execution_count": 9,
   "metadata": {
    "collapsed": false
   },
   "outputs": [
    {
     "name": "stdout",
     "output_type": "stream",
     "text": [
      "3/10 = 0\n",
      "3.0/10.0 = 0.3\n",
      "3.0/10 = 0.3\n",
      "3/10.0 = 0.3\n"
     ]
    }
   ],
   "source": [
    "print \"3/10 =\", 3/10\n",
    "print \"3.0/10.0 =\", 3.0/10.0\n",
    "print \"3.0/10 =\", 3.0/10\n",
    "print \"3/10.0 =\", 3/10.0"
   ]
  },
  {
   "cell_type": "markdown",
   "metadata": {},
   "source": [
    "O que acontece é que o Python não mais reconhece os números como int, e sim como float que podem ter valores quebrados. É preciso então tomar muito cuidado com as operações que for realizar em seus scripts.\n",
    "\n",
    "--------------------\n",
    "# Operações com strings\n",
    "Como você já deve ter percebido, o Python também realiza operações com as strings. São bem intuitivas, veja se você consegue entender:"
   ]
  },
  {
   "cell_type": "code",
   "execution_count": 1,
   "metadata": {
    "collapsed": false
   },
   "outputs": [
    {
     "name": "stdout",
     "output_type": "stream",
     "text": [
      "HelloWorld\n",
      "HelloHello\n",
      "WorldWorldWorldWorldWorld\n"
     ]
    },
    {
     "ename": "TypeError",
     "evalue": "unsupported operand type(s) for /: 'str' and 'int'",
     "output_type": "error",
     "traceback": [
      "\u001b[1;31m\u001b[0m",
      "\u001b[1;31mTypeError\u001b[0mTraceback (most recent call last)",
      "\u001b[1;32m<ipython-input-1-3e686be26ed1>\u001b[0m in \u001b[0;36m<module>\u001b[1;34m()\u001b[0m\n\u001b[0;32m      5\u001b[0m \u001b[1;32mprint\u001b[0m \u001b[0mword1\u001b[0m \u001b[1;33m*\u001b[0m \u001b[1;36m2\u001b[0m\u001b[1;33m\u001b[0m\u001b[0m\n\u001b[0;32m      6\u001b[0m \u001b[1;32mprint\u001b[0m \u001b[0mword2\u001b[0m \u001b[1;33m*\u001b[0m \u001b[1;36m5\u001b[0m\u001b[1;33m\u001b[0m\u001b[0m\n\u001b[1;32m----> 7\u001b[1;33m \u001b[1;32mprint\u001b[0m \u001b[0mword1\u001b[0m \u001b[1;33m/\u001b[0m \u001b[1;36m2\u001b[0m\u001b[1;33m\u001b[0m\u001b[0m\n\u001b[0m",
      "\u001b[1;31mTypeError\u001b[0m: unsupported operand type(s) for /: 'str' and 'int'"
     ]
    }
   ],
   "source": [
    "word1 = \"Hello\"\n",
    "word2 = \"World\"\n",
    "\n",
    "print word1 + word2\n",
    "print word1 * 2\n",
    "print word2 * 5"
   ]
  },
  {
   "cell_type": "markdown",
   "metadata": {},
   "source": [
    "Além destas operações básicas, o python também possui muitos métodos para manipulação de strings."
   ]
  },
  {
   "cell_type": "code",
   "execution_count": 4,
   "metadata": {
    "collapsed": false
   },
   "outputs": [
    {
     "name": "stdout",
     "output_type": "stream",
     "text": [
      "11\n",
      "3\n",
      "Oi World\n"
     ]
    }
   ],
   "source": [
    "sentence = \"Hello World\"\n",
    "\n",
    "print len(sentence)\n",
    "print sentence.count(\"l\")\n",
    "print sentence.replace(\"Hello\", \"Oi\")"
   ]
  },
  {
   "cell_type": "markdown",
   "metadata": {},
   "source": [
    "Observe que apesar de todas estas operações, a variável sentence ainda permanece a mesma. Para alterá-la precisaríamos assinalar o novo valor à variável."
   ]
  },
  {
   "cell_type": "code",
   "execution_count": 5,
   "metadata": {
    "collapsed": false
   },
   "outputs": [
    {
     "name": "stdout",
     "output_type": "stream",
     "text": [
      "Hello World\n"
     ]
    }
   ],
   "source": [
    "print sentence\n",
    "\n",
    "sentence = sentence.replace(\"Hello\", \"Oi\")\n"
   ]
  },
  {
   "cell_type": "code",
   "execution_count": 7,
   "metadata": {
    "collapsed": false
   },
   "outputs": [
    {
     "name": "stdout",
     "output_type": "stream",
     "text": [
      "Oi World\n"
     ]
    }
   ],
   "source": [
    "print sentence"
   ]
  },
  {
   "cell_type": "markdown",
   "metadata": {},
   "source": [
    "# Interagindo com o usuário\n",
    "É possível que você esteja se perguntando da utilidade do que você aprendeu até agora já que tudo parece muito estático, muito pré-definido. Por exemplo, na prática não queremos um script que resolva só a equação 3 * 4 + 39, nós queremos um programa que calcule qualquer equação que precisarmos no momento. Para isso, vamos aprender a interagir com o usuário:"
   ]
  },
  {
   "cell_type": "code",
   "execution_count": 9,
   "metadata": {
    "collapsed": false
   },
   "outputs": [
    {
     "name": "stdout",
     "output_type": "stream",
     "text": [
      "What is your name? teste\n",
      "Your name is teste\n"
     ]
    }
   ],
   "source": [
    "x = raw_input(\"What is your name? \")\n",
    "\n",
    "print \"Your name is\", x"
   ]
  },
  {
   "cell_type": "markdown",
   "metadata": {},
   "source": [
    "Legal, agora podemos fazer algo mais personalizável. Vamos criar um código que pede dois números para você e então imprime a soma dos dois."
   ]
  },
  {
   "cell_type": "code",
   "execution_count": 10,
   "metadata": {
    "collapsed": false
   },
   "outputs": [
    {
     "name": "stdout",
     "output_type": "stream",
     "text": [
      "First number: 3\n",
      "Second number: 4\n",
      "34\n"
     ]
    }
   ],
   "source": [
    "x = raw_input(\"First number: \")\n",
    "y = raw_input(\"Second number: \")\n",
    "\n",
    "print x+y"
   ]
  },
  {
   "cell_type": "markdown",
   "metadata": {},
   "source": [
    "Ooops, parece que algo deu errado. Você consegue imaginar o que seria?"
   ]
  },
  {
   "cell_type": "code",
   "execution_count": 11,
   "metadata": {
    "collapsed": false
   },
   "outputs": [
    {
     "name": "stdout",
     "output_type": "stream",
     "text": [
      "First number: 3\n",
      "Second number: 4\n",
      "7\n"
     ]
    }
   ],
   "source": [
    "x = raw_input(\"First number: \")\n",
    "y = raw_input(\"Second number: \")\n",
    "\n",
    "print int(x)+int(y)"
   ]
  },
  {
   "cell_type": "markdown",
   "metadata": {},
   "source": [
    "De toda forma, o código acima não funciona para todas as situações. Em qual delas o resultado seria errado?"
   ]
  },
  {
   "cell_type": "markdown",
   "metadata": {},
   "source": [
    "# Exercício\n",
    "Introdução: PCR é uma das técnicas mais utilizadas em biologia molecular. Ela tem como objetivo amplificar regiões específicas de nucleotídeos. Um dos materiais necessário é um par de primers sintetizados que irão se ligar o início e fim da região desejada.\n",
    "\n",
    "O processo de escolha dos primers a serem utilizados não é tão simples quanto escolher aleatoriamente uma região. É preciso levar em conta o tamanho do primer, porcentagem de conteúdo GC, temperatura de anelamento, presença de repeats e outros.\n",
    "\n",
    "Tarefa: Criar um script que pede uma sequência de nucleotídeos ao usuário e decide se esta sequência é adequada ou não como um primer para PCR. Esta decisão deve ser feita apenas de acordo com os parâmetros tamanho da sequência e porcentagem de conteúdo GC:\n",
    "Tamanho da sequência: Entre 18 e 22 pares de bases;\n",
    "%GC: Entre 40 e 60% de conteúdo GC.\n",
    "\n",
    "O output deve conter estas informações e o resultado da decisão.\n",
    "\n",
    "Dicas: Esta tarefa utiliza apenas assuntos que você já estudou. Lembre-se de realizar muitos teste para ver se o seu código funciona de verdade."
   ]
  },
  {
   "cell_type": "code",
   "execution_count": null,
   "metadata": {
    "collapsed": true
   },
   "outputs": [],
   "source": []
  }
 ],
 "metadata": {
  "kernelspec": {
   "display_name": "Python 2",
   "language": "python",
   "name": "python2"
  },
  "language_info": {
   "codemirror_mode": {
    "name": "ipython",
    "version": 2
   },
   "file_extension": ".py",
   "mimetype": "text/x-python",
   "name": "python",
   "nbconvert_exporter": "python",
   "pygments_lexer": "ipython2",
   "version": "2.7.11"
  },
  "widgets": {
   "state": {},
   "version": "1.1.2"
  }
 },
 "nbformat": 4,
 "nbformat_minor": 0
}
